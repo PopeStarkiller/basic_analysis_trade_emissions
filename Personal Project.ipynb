{
 "cells": [
  {
   "cell_type": "code",
   "execution_count": 26,
   "metadata": {},
   "outputs": [],
   "source": [
    "import matplotlib.pyplot as plt\n",
    "import pandas as pd\n",
    "import numpy as np\n",
    "import requests\n",
    "import gmaps\n",
    "import os\n",
    "import scipy.stats as st"
   ]
  },
  {
   "cell_type": "code",
   "execution_count": 27,
   "metadata": {},
   "outputs": [],
   "source": [
    "steve = pd.read_csv('commodity_trade_statistics_data.csv',low_memory=False)\n",
    "world_emissions = pd.read_csv('co2_emission.csv')"
   ]
  },
  {
   "cell_type": "code",
   "execution_count": 28,
   "metadata": {},
   "outputs": [],
   "source": [
    "bob = pd.read_csv('GDP-countries-1990-2018.csv')\n",
    "saul = pd.read_csv('2018-2010_export.csv')"
   ]
  },
  {
   "cell_type": "code",
   "execution_count": 29,
   "metadata": {},
   "outputs": [],
   "source": [
    "trade_df = pd.DataFrame(steve)\n",
    "world_em_df = pd.DataFrame(world_emissions)\n",
    "gdp_df = pd.DataFrame(bob)\n",
    "india_export_df = pd.DataFrame(saul)"
   ]
  },
  {
   "cell_type": "code",
   "execution_count": 30,
   "metadata": {},
   "outputs": [
    {
     "data": {
      "text/html": [
       "<div>\n",
       "<style scoped>\n",
       "    .dataframe tbody tr th:only-of-type {\n",
       "        vertical-align: middle;\n",
       "    }\n",
       "\n",
       "    .dataframe tbody tr th {\n",
       "        vertical-align: top;\n",
       "    }\n",
       "\n",
       "    .dataframe thead th {\n",
       "        text-align: right;\n",
       "    }\n",
       "</style>\n",
       "<table border=\"1\" class=\"dataframe\">\n",
       "  <thead>\n",
       "    <tr style=\"text-align: right;\">\n",
       "      <th></th>\n",
       "      <th>year</th>\n",
       "      <th>comm_code</th>\n",
       "      <th>commodity</th>\n",
       "      <th>flow</th>\n",
       "      <th>trade_usd</th>\n",
       "      <th>weight_kg</th>\n",
       "      <th>quantity_name</th>\n",
       "      <th>quantity</th>\n",
       "      <th>category</th>\n",
       "      <th>Entity</th>\n",
       "    </tr>\n",
       "  </thead>\n",
       "  <tbody>\n",
       "    <tr>\n",
       "      <th>0</th>\n",
       "      <td>2016</td>\n",
       "      <td>010410</td>\n",
       "      <td>Sheep, live</td>\n",
       "      <td>Export</td>\n",
       "      <td>6088</td>\n",
       "      <td>2339.0</td>\n",
       "      <td>Number of items</td>\n",
       "      <td>51.0</td>\n",
       "      <td>01_live_animals</td>\n",
       "      <td>Afghanistan</td>\n",
       "    </tr>\n",
       "    <tr>\n",
       "      <th>1</th>\n",
       "      <td>2016</td>\n",
       "      <td>010420</td>\n",
       "      <td>Goats, live</td>\n",
       "      <td>Export</td>\n",
       "      <td>3958</td>\n",
       "      <td>984.0</td>\n",
       "      <td>Number of items</td>\n",
       "      <td>53.0</td>\n",
       "      <td>01_live_animals</td>\n",
       "      <td>Afghanistan</td>\n",
       "    </tr>\n",
       "    <tr>\n",
       "      <th>2</th>\n",
       "      <td>2008</td>\n",
       "      <td>010210</td>\n",
       "      <td>Bovine animals, live pure-bred breeding</td>\n",
       "      <td>Import</td>\n",
       "      <td>1026804</td>\n",
       "      <td>272.0</td>\n",
       "      <td>Number of items</td>\n",
       "      <td>3769.0</td>\n",
       "      <td>01_live_animals</td>\n",
       "      <td>Afghanistan</td>\n",
       "    </tr>\n",
       "    <tr>\n",
       "      <th>3</th>\n",
       "      <td>2016</td>\n",
       "      <td>010290</td>\n",
       "      <td>Bovine animals, live, except pure-bred breeding</td>\n",
       "      <td>Import</td>\n",
       "      <td>2414533</td>\n",
       "      <td>1114023.0</td>\n",
       "      <td>Number of items</td>\n",
       "      <td>6853.0</td>\n",
       "      <td>01_live_animals</td>\n",
       "      <td>Albania</td>\n",
       "    </tr>\n",
       "    <tr>\n",
       "      <th>4</th>\n",
       "      <td>2016</td>\n",
       "      <td>010392</td>\n",
       "      <td>Swine, live except pure-bred breeding &gt; 50 kg</td>\n",
       "      <td>Import</td>\n",
       "      <td>14265937</td>\n",
       "      <td>9484953.0</td>\n",
       "      <td>Number of items</td>\n",
       "      <td>96040.0</td>\n",
       "      <td>01_live_animals</td>\n",
       "      <td>Albania</td>\n",
       "    </tr>\n",
       "    <tr>\n",
       "      <th>...</th>\n",
       "      <td>...</td>\n",
       "      <td>...</td>\n",
       "      <td>...</td>\n",
       "      <td>...</td>\n",
       "      <td>...</td>\n",
       "      <td>...</td>\n",
       "      <td>...</td>\n",
       "      <td>...</td>\n",
       "      <td>...</td>\n",
       "      <td>...</td>\n",
       "    </tr>\n",
       "    <tr>\n",
       "      <th>8225866</th>\n",
       "      <td>2001</td>\n",
       "      <td>TOTAL</td>\n",
       "      <td>ALL COMMODITIES</td>\n",
       "      <td>Export</td>\n",
       "      <td>1206807424</td>\n",
       "      <td>NaN</td>\n",
       "      <td>No Quantity</td>\n",
       "      <td>NaN</td>\n",
       "      <td>all_commodities</td>\n",
       "      <td>Zimbabwe</td>\n",
       "    </tr>\n",
       "    <tr>\n",
       "      <th>8225867</th>\n",
       "      <td>2001</td>\n",
       "      <td>TOTAL</td>\n",
       "      <td>ALL COMMODITIES</td>\n",
       "      <td>Re-Export</td>\n",
       "      <td>15943977</td>\n",
       "      <td>NaN</td>\n",
       "      <td>No Quantity</td>\n",
       "      <td>NaN</td>\n",
       "      <td>all_commodities</td>\n",
       "      <td>Zimbabwe</td>\n",
       "    </tr>\n",
       "    <tr>\n",
       "      <th>8225868</th>\n",
       "      <td>2000</td>\n",
       "      <td>TOTAL</td>\n",
       "      <td>ALL COMMODITIES</td>\n",
       "      <td>Export</td>\n",
       "      <td>1924962432</td>\n",
       "      <td>NaN</td>\n",
       "      <td>No Quantity</td>\n",
       "      <td>NaN</td>\n",
       "      <td>all_commodities</td>\n",
       "      <td>Zimbabwe</td>\n",
       "    </tr>\n",
       "    <tr>\n",
       "      <th>8225869</th>\n",
       "      <td>1995</td>\n",
       "      <td>TOTAL</td>\n",
       "      <td>ALL COMMODITIES</td>\n",
       "      <td>Import</td>\n",
       "      <td>2658853376</td>\n",
       "      <td>NaN</td>\n",
       "      <td>No Quantity</td>\n",
       "      <td>NaN</td>\n",
       "      <td>all_commodities</td>\n",
       "      <td>Zimbabwe</td>\n",
       "    </tr>\n",
       "    <tr>\n",
       "      <th>8225870</th>\n",
       "      <td>1995</td>\n",
       "      <td>TOTAL</td>\n",
       "      <td>ALL COMMODITIES</td>\n",
       "      <td>Export</td>\n",
       "      <td>1845905792</td>\n",
       "      <td>NaN</td>\n",
       "      <td>No Quantity</td>\n",
       "      <td>NaN</td>\n",
       "      <td>all_commodities</td>\n",
       "      <td>Zimbabwe</td>\n",
       "    </tr>\n",
       "  </tbody>\n",
       "</table>\n",
       "<p>8225871 rows × 10 columns</p>\n",
       "</div>"
      ],
      "text/plain": [
       "         year comm_code                                        commodity  \\\n",
       "0        2016    010410                                      Sheep, live   \n",
       "1        2016    010420                                      Goats, live   \n",
       "2        2008    010210          Bovine animals, live pure-bred breeding   \n",
       "3        2016    010290  Bovine animals, live, except pure-bred breeding   \n",
       "4        2016    010392    Swine, live except pure-bred breeding > 50 kg   \n",
       "...       ...       ...                                              ...   \n",
       "8225866  2001     TOTAL                                  ALL COMMODITIES   \n",
       "8225867  2001     TOTAL                                  ALL COMMODITIES   \n",
       "8225868  2000     TOTAL                                  ALL COMMODITIES   \n",
       "8225869  1995     TOTAL                                  ALL COMMODITIES   \n",
       "8225870  1995     TOTAL                                  ALL COMMODITIES   \n",
       "\n",
       "              flow   trade_usd  weight_kg    quantity_name  quantity  \\\n",
       "0           Export        6088     2339.0  Number of items      51.0   \n",
       "1           Export        3958      984.0  Number of items      53.0   \n",
       "2           Import     1026804      272.0  Number of items    3769.0   \n",
       "3           Import     2414533  1114023.0  Number of items    6853.0   \n",
       "4           Import    14265937  9484953.0  Number of items   96040.0   \n",
       "...            ...         ...        ...              ...       ...   \n",
       "8225866     Export  1206807424        NaN      No Quantity       NaN   \n",
       "8225867  Re-Export    15943977        NaN      No Quantity       NaN   \n",
       "8225868     Export  1924962432        NaN      No Quantity       NaN   \n",
       "8225869     Import  2658853376        NaN      No Quantity       NaN   \n",
       "8225870     Export  1845905792        NaN      No Quantity       NaN   \n",
       "\n",
       "                category       Entity  \n",
       "0        01_live_animals  Afghanistan  \n",
       "1        01_live_animals  Afghanistan  \n",
       "2        01_live_animals  Afghanistan  \n",
       "3        01_live_animals      Albania  \n",
       "4        01_live_animals      Albania  \n",
       "...                  ...          ...  \n",
       "8225866  all_commodities     Zimbabwe  \n",
       "8225867  all_commodities     Zimbabwe  \n",
       "8225868  all_commodities     Zimbabwe  \n",
       "8225869  all_commodities     Zimbabwe  \n",
       "8225870  all_commodities     Zimbabwe  \n",
       "\n",
       "[8225871 rows x 10 columns]"
      ]
     },
     "execution_count": 30,
     "metadata": {},
     "output_type": "execute_result"
    }
   ],
   "source": [
    "trade_df['Entity'] = trade_df['country_or_area']\n",
    "trade_df.drop(columns = ['country_or_area'], inplace = True)\n",
    "trade_df"
   ]
  },
  {
   "cell_type": "code",
   "execution_count": 31,
   "metadata": {},
   "outputs": [
    {
     "name": "stderr",
     "output_type": "stream",
     "text": [
      "C:\\Users\\popes\\anaconda3\\lib\\site-packages\\pandas\\core\\frame.py:4163: SettingWithCopyWarning: \n",
      "A value is trying to be set on a copy of a slice from a DataFrame\n",
      "\n",
      "See the caveats in the documentation: https://pandas.pydata.org/pandas-docs/stable/user_guide/indexing.html#returning-a-view-versus-a-copy\n",
      "  return super().drop(\n"
     ]
    },
    {
     "data": {
      "text/html": [
       "<div>\n",
       "<style scoped>\n",
       "    .dataframe tbody tr th:only-of-type {\n",
       "        vertical-align: middle;\n",
       "    }\n",
       "\n",
       "    .dataframe tbody tr th {\n",
       "        vertical-align: top;\n",
       "    }\n",
       "\n",
       "    .dataframe thead th {\n",
       "        text-align: right;\n",
       "    }\n",
       "</style>\n",
       "<table border=\"1\" class=\"dataframe\">\n",
       "  <thead>\n",
       "    <tr style=\"text-align: right;\">\n",
       "      <th></th>\n",
       "      <th>Country</th>\n",
       "      <th>1990</th>\n",
       "      <th>1991</th>\n",
       "      <th>1992</th>\n",
       "      <th>1993</th>\n",
       "      <th>1994</th>\n",
       "      <th>1995</th>\n",
       "      <th>1996</th>\n",
       "      <th>1997</th>\n",
       "      <th>1998</th>\n",
       "      <th>...</th>\n",
       "      <th>2010</th>\n",
       "      <th>2011</th>\n",
       "      <th>2012</th>\n",
       "      <th>2013</th>\n",
       "      <th>2014</th>\n",
       "      <th>2015</th>\n",
       "      <th>2016</th>\n",
       "      <th>2017</th>\n",
       "      <th>2018</th>\n",
       "      <th>2019</th>\n",
       "    </tr>\n",
       "  </thead>\n",
       "  <tbody>\n",
       "    <tr>\n",
       "      <th>103</th>\n",
       "      <td>India</td>\n",
       "      <td>1236.671208</td>\n",
       "      <td>1265.917481</td>\n",
       "      <td>1338.664595</td>\n",
       "      <td>1407.473802</td>\n",
       "      <td>1503.745417</td>\n",
       "      <td>1620.175387</td>\n",
       "      <td>1741.084404</td>\n",
       "      <td>1808.708364</td>\n",
       "      <td>1906.7799</td>\n",
       "      <td>...</td>\n",
       "      <td>4360.15405</td>\n",
       "      <td>4624.561404</td>\n",
       "      <td>4909.584076</td>\n",
       "      <td>5252.272397</td>\n",
       "      <td>5682.731285</td>\n",
       "      <td>6133.887015</td>\n",
       "      <td>6634.844574</td>\n",
       "      <td>7168.992484</td>\n",
       "      <td>7762.88177</td>\n",
       "      <td>NaN</td>\n",
       "    </tr>\n",
       "  </tbody>\n",
       "</table>\n",
       "<p>1 rows × 31 columns</p>\n",
       "</div>"
      ],
      "text/plain": [
       "    Country          1990         1991         1992         1993         1994  \\\n",
       "103    India  1236.671208  1265.917481  1338.664595  1407.473802  1503.745417   \n",
       "\n",
       "            1995         1996         1997       1998  ...        2010  \\\n",
       "103  1620.175387  1741.084404  1808.708364  1906.7799  ...  4360.15405   \n",
       "\n",
       "            2011         2012         2013         2014         2015  \\\n",
       "103  4624.561404  4909.584076  5252.272397  5682.731285  6133.887015   \n",
       "\n",
       "            2016         2017        2018  2019  \n",
       "103  6634.844574  7168.992484  7762.88177   NaN  \n",
       "\n",
       "[1 rows x 31 columns]"
      ]
     },
     "execution_count": 31,
     "metadata": {},
     "output_type": "execute_result"
    }
   ],
   "source": [
    "india_gdp_df = gdp_df.loc[gdp_df['Country '] == 'India']\n",
    "india_gdp_df.drop(columns = ['Country Code'], inplace = True)\n",
    "india_gdp_df"
   ]
  },
  {
   "cell_type": "code",
   "execution_count": 32,
   "metadata": {},
   "outputs": [
    {
     "data": {
      "text/html": [
       "<div>\n",
       "<style scoped>\n",
       "    .dataframe tbody tr th:only-of-type {\n",
       "        vertical-align: middle;\n",
       "    }\n",
       "\n",
       "    .dataframe tbody tr th {\n",
       "        vertical-align: top;\n",
       "    }\n",
       "\n",
       "    .dataframe thead th {\n",
       "        text-align: right;\n",
       "    }\n",
       "</style>\n",
       "<table border=\"1\" class=\"dataframe\">\n",
       "  <thead>\n",
       "    <tr style=\"text-align: right;\">\n",
       "      <th></th>\n",
       "      <th>Country</th>\n",
       "      <th>Year</th>\n",
       "      <th>GDP</th>\n",
       "    </tr>\n",
       "  </thead>\n",
       "  <tbody>\n",
       "    <tr>\n",
       "      <th>20</th>\n",
       "      <td>India</td>\n",
       "      <td>2010</td>\n",
       "      <td>4360.154050</td>\n",
       "    </tr>\n",
       "    <tr>\n",
       "      <th>21</th>\n",
       "      <td>India</td>\n",
       "      <td>2011</td>\n",
       "      <td>4624.561404</td>\n",
       "    </tr>\n",
       "    <tr>\n",
       "      <th>22</th>\n",
       "      <td>India</td>\n",
       "      <td>2012</td>\n",
       "      <td>4909.584076</td>\n",
       "    </tr>\n",
       "    <tr>\n",
       "      <th>23</th>\n",
       "      <td>India</td>\n",
       "      <td>2013</td>\n",
       "      <td>5252.272397</td>\n",
       "    </tr>\n",
       "    <tr>\n",
       "      <th>24</th>\n",
       "      <td>India</td>\n",
       "      <td>2014</td>\n",
       "      <td>5682.731285</td>\n",
       "    </tr>\n",
       "    <tr>\n",
       "      <th>25</th>\n",
       "      <td>India</td>\n",
       "      <td>2015</td>\n",
       "      <td>6133.887015</td>\n",
       "    </tr>\n",
       "    <tr>\n",
       "      <th>26</th>\n",
       "      <td>India</td>\n",
       "      <td>2016</td>\n",
       "      <td>6634.844574</td>\n",
       "    </tr>\n",
       "    <tr>\n",
       "      <th>27</th>\n",
       "      <td>India</td>\n",
       "      <td>2017</td>\n",
       "      <td>7168.992484</td>\n",
       "    </tr>\n",
       "  </tbody>\n",
       "</table>\n",
       "</div>"
      ],
      "text/plain": [
       "   Country  Year          GDP\n",
       "20   India  2010  4360.154050\n",
       "21   India  2011  4624.561404\n",
       "22   India  2012  4909.584076\n",
       "23   India  2013  5252.272397\n",
       "24   India  2014  5682.731285\n",
       "25   India  2015  6133.887015\n",
       "26   India  2016  6634.844574\n",
       "27   India  2017  7168.992484"
      ]
     },
     "execution_count": 32,
     "metadata": {},
     "output_type": "execute_result"
    }
   ],
   "source": [
    "fixed_india_gdp_df = pd.melt(india_gdp_df, id_vars=['Country '], value_vars=['1990','1991','1992','1993','1994',\n",
    "                                                                             '1995','1996','1997','1998','1999','2000',\n",
    "                                                                            '2001','2002','2003','2004','2005','2006',\n",
    "                                                                            '2007','2008','2009','2010','2011','2012',\n",
    "                                                                            '2013','2014','2015','2016','2017','2018',])\n",
    "fixed_india_gdp_df.columns = ['Country','Year','GDP']\n",
    "fixed_india_gdp_df['Year'] = pd.to_numeric(fixed_india_gdp_df['Year'])\n",
    "final_india_gdp = pd.DataFrame(fixed_india_gdp_df.loc[(fixed_india_gdp_df['Year'] >= 2010) & (fixed_india_gdp_df['Year'] < 2018)])\n",
    "final_india_gdp"
   ]
  },
  {
   "cell_type": "code",
   "execution_count": 8,
   "metadata": {},
   "outputs": [
    {
     "name": "stderr",
     "output_type": "stream",
     "text": [
      "<ipython-input-8-12bda84e207d>:2: SettingWithCopyWarning: \n",
      "A value is trying to be set on a copy of a slice from a DataFrame.\n",
      "Try using .loc[row_indexer,col_indexer] = value instead\n",
      "\n",
      "See the caveats in the documentation: https://pandas.pydata.org/pandas-docs/stable/user_guide/indexing.html#returning-a-view-versus-a-copy\n",
      "  india_export_df_us['value'] = india_export_df_us['value'].fillna(0)\n"
     ]
    },
    {
     "data": {
      "text/html": [
       "<div>\n",
       "<style scoped>\n",
       "    .dataframe tbody tr th:only-of-type {\n",
       "        vertical-align: middle;\n",
       "    }\n",
       "\n",
       "    .dataframe tbody tr th {\n",
       "        vertical-align: top;\n",
       "    }\n",
       "\n",
       "    .dataframe thead th {\n",
       "        text-align: right;\n",
       "    }\n",
       "</style>\n",
       "<table border=\"1\" class=\"dataframe\">\n",
       "  <thead>\n",
       "    <tr style=\"text-align: right;\">\n",
       "      <th></th>\n",
       "      <th>HSCode</th>\n",
       "      <th>Commodity</th>\n",
       "      <th>value</th>\n",
       "      <th>country</th>\n",
       "      <th>year</th>\n",
       "    </tr>\n",
       "  </thead>\n",
       "  <tbody>\n",
       "    <tr>\n",
       "      <th>30406</th>\n",
       "      <td>1</td>\n",
       "      <td>LIVE ANIMALS.</td>\n",
       "      <td>0.00</td>\n",
       "      <td>U S A</td>\n",
       "      <td>2017</td>\n",
       "    </tr>\n",
       "    <tr>\n",
       "      <th>30407</th>\n",
       "      <td>2</td>\n",
       "      <td>MEAT AND EDIBLE MEAT OFFAL.</td>\n",
       "      <td>4.98</td>\n",
       "      <td>U S A</td>\n",
       "      <td>2017</td>\n",
       "    </tr>\n",
       "    <tr>\n",
       "      <th>30408</th>\n",
       "      <td>3</td>\n",
       "      <td>FISH AND CRUSTACEANS, MOLLUSCS AND OTHER AQUAT...</td>\n",
       "      <td>2105.93</td>\n",
       "      <td>U S A</td>\n",
       "      <td>2017</td>\n",
       "    </tr>\n",
       "    <tr>\n",
       "      <th>30409</th>\n",
       "      <td>4</td>\n",
       "      <td>DAIRY PRODUCE; BIRDS' EGGS; NATURAL HONEY; EDI...</td>\n",
       "      <td>86.65</td>\n",
       "      <td>U S A</td>\n",
       "      <td>2017</td>\n",
       "    </tr>\n",
       "    <tr>\n",
       "      <th>30410</th>\n",
       "      <td>5</td>\n",
       "      <td>PRODUCTS OF ANIMAL ORIGIN, NOT ELSEWHERE SPECI...</td>\n",
       "      <td>1.44</td>\n",
       "      <td>U S A</td>\n",
       "      <td>2017</td>\n",
       "    </tr>\n",
       "    <tr>\n",
       "      <th>...</th>\n",
       "      <td>...</td>\n",
       "      <td>...</td>\n",
       "      <td>...</td>\n",
       "      <td>...</td>\n",
       "      <td>...</td>\n",
       "    </tr>\n",
       "    <tr>\n",
       "      <th>136073</th>\n",
       "      <td>95</td>\n",
       "      <td>TOYS, GAMES AND SPORTS REQUISITES; PARTS AND A...</td>\n",
       "      <td>24.37</td>\n",
       "      <td>U S A</td>\n",
       "      <td>2010</td>\n",
       "    </tr>\n",
       "    <tr>\n",
       "      <th>136074</th>\n",
       "      <td>96</td>\n",
       "      <td>MISCELLANEOUS MANUFACTURED ARTICLES.</td>\n",
       "      <td>60.76</td>\n",
       "      <td>U S A</td>\n",
       "      <td>2010</td>\n",
       "    </tr>\n",
       "    <tr>\n",
       "      <th>136075</th>\n",
       "      <td>97</td>\n",
       "      <td>WORKS OF ART COLLECTORS' PIECES AND ANTIQUES.</td>\n",
       "      <td>73.07</td>\n",
       "      <td>U S A</td>\n",
       "      <td>2010</td>\n",
       "    </tr>\n",
       "    <tr>\n",
       "      <th>136076</th>\n",
       "      <td>98</td>\n",
       "      <td>PROJECT GOODS; SOME SPECIAL USES.</td>\n",
       "      <td>5.27</td>\n",
       "      <td>U S A</td>\n",
       "      <td>2010</td>\n",
       "    </tr>\n",
       "    <tr>\n",
       "      <th>136077</th>\n",
       "      <td>99</td>\n",
       "      <td>MISCELLANEOUS GOODS.</td>\n",
       "      <td>108.82</td>\n",
       "      <td>U S A</td>\n",
       "      <td>2010</td>\n",
       "    </tr>\n",
       "  </tbody>\n",
       "</table>\n",
       "<p>783 rows × 5 columns</p>\n",
       "</div>"
      ],
      "text/plain": [
       "        HSCode                                          Commodity    value  \\\n",
       "30406        1                                      LIVE ANIMALS.     0.00   \n",
       "30407        2                        MEAT AND EDIBLE MEAT OFFAL.     4.98   \n",
       "30408        3  FISH AND CRUSTACEANS, MOLLUSCS AND OTHER AQUAT...  2105.93   \n",
       "30409        4  DAIRY PRODUCE; BIRDS' EGGS; NATURAL HONEY; EDI...    86.65   \n",
       "30410        5  PRODUCTS OF ANIMAL ORIGIN, NOT ELSEWHERE SPECI...     1.44   \n",
       "...        ...                                                ...      ...   \n",
       "136073      95  TOYS, GAMES AND SPORTS REQUISITES; PARTS AND A...    24.37   \n",
       "136074      96               MISCELLANEOUS MANUFACTURED ARTICLES.    60.76   \n",
       "136075      97      WORKS OF ART COLLECTORS' PIECES AND ANTIQUES.    73.07   \n",
       "136076      98                  PROJECT GOODS; SOME SPECIAL USES.     5.27   \n",
       "136077      99                               MISCELLANEOUS GOODS.   108.82   \n",
       "\n",
       "       country  year  \n",
       "30406    U S A  2017  \n",
       "30407    U S A  2017  \n",
       "30408    U S A  2017  \n",
       "30409    U S A  2017  \n",
       "30410    U S A  2017  \n",
       "...        ...   ...  \n",
       "136073   U S A  2010  \n",
       "136074   U S A  2010  \n",
       "136075   U S A  2010  \n",
       "136076   U S A  2010  \n",
       "136077   U S A  2010  \n",
       "\n",
       "[783 rows x 5 columns]"
      ]
     },
     "execution_count": 8,
     "metadata": {},
     "output_type": "execute_result"
    }
   ],
   "source": [
    "india_export_df_us = india_export_df.loc[(india_export_df['country'] == 'U S A') & (india_export_df['year'] < 2018)]\n",
    "india_export_df_us['value'] = india_export_df_us['value'].fillna(0)\n",
    "india_export_df_us"
   ]
  },
  {
   "cell_type": "code",
   "execution_count": 9,
   "metadata": {},
   "outputs": [
    {
     "data": {
      "text/html": [
       "<div>\n",
       "<style scoped>\n",
       "    .dataframe tbody tr th:only-of-type {\n",
       "        vertical-align: middle;\n",
       "    }\n",
       "\n",
       "    .dataframe tbody tr th {\n",
       "        vertical-align: top;\n",
       "    }\n",
       "\n",
       "    .dataframe thead th {\n",
       "        text-align: right;\n",
       "    }\n",
       "</style>\n",
       "<table border=\"1\" class=\"dataframe\">\n",
       "  <thead>\n",
       "    <tr style=\"text-align: right;\">\n",
       "      <th></th>\n",
       "      <th>average_value</th>\n",
       "      <th>country</th>\n",
       "      <th>Total_Value</th>\n",
       "      <th>year</th>\n",
       "    </tr>\n",
       "    <tr>\n",
       "      <th>year</th>\n",
       "      <th></th>\n",
       "      <th></th>\n",
       "      <th></th>\n",
       "      <th></th>\n",
       "    </tr>\n",
       "  </thead>\n",
       "  <tbody>\n",
       "    <tr>\n",
       "      <th>2010</th>\n",
       "      <td>258.077143</td>\n",
       "      <td>U S A</td>\n",
       "      <td>25291.56</td>\n",
       "      <td>2010</td>\n",
       "    </tr>\n",
       "    <tr>\n",
       "      <th>2011</th>\n",
       "      <td>354.503367</td>\n",
       "      <td>U S A</td>\n",
       "      <td>34741.33</td>\n",
       "      <td>2011</td>\n",
       "    </tr>\n",
       "    <tr>\n",
       "      <th>2012</th>\n",
       "      <td>368.927347</td>\n",
       "      <td>U S A</td>\n",
       "      <td>36154.88</td>\n",
       "      <td>2012</td>\n",
       "    </tr>\n",
       "    <tr>\n",
       "      <th>2013</th>\n",
       "      <td>399.406224</td>\n",
       "      <td>U S A</td>\n",
       "      <td>39141.81</td>\n",
       "      <td>2013</td>\n",
       "    </tr>\n",
       "    <tr>\n",
       "      <th>2014</th>\n",
       "      <td>433.145918</td>\n",
       "      <td>U S A</td>\n",
       "      <td>42448.30</td>\n",
       "      <td>2014</td>\n",
       "    </tr>\n",
       "    <tr>\n",
       "      <th>2015</th>\n",
       "      <td>411.588571</td>\n",
       "      <td>U S A</td>\n",
       "      <td>40335.68</td>\n",
       "      <td>2015</td>\n",
       "    </tr>\n",
       "    <tr>\n",
       "      <th>2016</th>\n",
       "      <td>435.174845</td>\n",
       "      <td>U S A</td>\n",
       "      <td>42211.96</td>\n",
       "      <td>2016</td>\n",
       "    </tr>\n",
       "    <tr>\n",
       "      <th>2017</th>\n",
       "      <td>488.552755</td>\n",
       "      <td>U S A</td>\n",
       "      <td>47878.17</td>\n",
       "      <td>2017</td>\n",
       "    </tr>\n",
       "  </tbody>\n",
       "</table>\n",
       "</div>"
      ],
      "text/plain": [
       "      average_value country  Total_Value  year\n",
       "year                                          \n",
       "2010     258.077143   U S A     25291.56  2010\n",
       "2011     354.503367   U S A     34741.33  2011\n",
       "2012     368.927347   U S A     36154.88  2012\n",
       "2013     399.406224   U S A     39141.81  2013\n",
       "2014     433.145918   U S A     42448.30  2014\n",
       "2015     411.588571   U S A     40335.68  2015\n",
       "2016     435.174845   U S A     42211.96  2016\n",
       "2017     488.552755   U S A     47878.17  2017"
      ]
     },
     "execution_count": 9,
     "metadata": {},
     "output_type": "execute_result"
    }
   ],
   "source": [
    "year_group = india_export_df_us.groupby(['year'])\n",
    "country = []\n",
    "year = []\n",
    "counter = 0\n",
    "value_avg = pd.DataFrame()\n",
    "\n",
    "\n",
    "value_avg['average_value'] = year_group['value'].mean()\n",
    "for x in value_avg['average_value']:\n",
    "    country.append(\"U S A\")\n",
    "    year.append(2010 + counter)\n",
    "    counter = counter + 1\n",
    "value_avg['country'] = country\n",
    "value_avg['Total_Value'] = year_group['value'].sum()\n",
    "value_avg['year'] = year\n",
    "value_avg"
   ]
  },
  {
   "cell_type": "code",
   "execution_count": 10,
   "metadata": {},
   "outputs": [],
   "source": [
    "india_em_df = world_em_df.loc[(world_em_df['Entity'] == 'India') & (world_em_df['Year'] >= 2010)]\n",
    "us_em_df = world_em_df.loc[(world_em_df['Entity'] == 'United States') & (world_em_df['Year'] >= 2010)]"
   ]
  },
  {
   "cell_type": "code",
   "execution_count": 11,
   "metadata": {},
   "outputs": [
    {
     "data": {
      "text/html": [
       "<div>\n",
       "<style scoped>\n",
       "    .dataframe tbody tr th:only-of-type {\n",
       "        vertical-align: middle;\n",
       "    }\n",
       "\n",
       "    .dataframe tbody tr th {\n",
       "        vertical-align: top;\n",
       "    }\n",
       "\n",
       "    .dataframe thead th {\n",
       "        text-align: right;\n",
       "    }\n",
       "</style>\n",
       "<table border=\"1\" class=\"dataframe\">\n",
       "  <thead>\n",
       "    <tr style=\"text-align: right;\">\n",
       "      <th></th>\n",
       "      <th>Entity</th>\n",
       "      <th>Code</th>\n",
       "      <th>Year</th>\n",
       "      <th>Annual CO₂ emissions (tonnes )</th>\n",
       "    </tr>\n",
       "  </thead>\n",
       "  <tbody>\n",
       "    <tr>\n",
       "      <th>9452</th>\n",
       "      <td>India</td>\n",
       "      <td>IND</td>\n",
       "      <td>2010</td>\n",
       "      <td>1.700027e+09</td>\n",
       "    </tr>\n",
       "    <tr>\n",
       "      <th>9453</th>\n",
       "      <td>India</td>\n",
       "      <td>IND</td>\n",
       "      <td>2011</td>\n",
       "      <td>1.817172e+09</td>\n",
       "    </tr>\n",
       "    <tr>\n",
       "      <th>9454</th>\n",
       "      <td>India</td>\n",
       "      <td>IND</td>\n",
       "      <td>2012</td>\n",
       "      <td>1.983759e+09</td>\n",
       "    </tr>\n",
       "    <tr>\n",
       "      <th>9455</th>\n",
       "      <td>India</td>\n",
       "      <td>IND</td>\n",
       "      <td>2013</td>\n",
       "      <td>1.997879e+09</td>\n",
       "    </tr>\n",
       "    <tr>\n",
       "      <th>9456</th>\n",
       "      <td>India</td>\n",
       "      <td>IND</td>\n",
       "      <td>2014</td>\n",
       "      <td>2.207534e+09</td>\n",
       "    </tr>\n",
       "    <tr>\n",
       "      <th>9457</th>\n",
       "      <td>India</td>\n",
       "      <td>IND</td>\n",
       "      <td>2015</td>\n",
       "      <td>2.276407e+09</td>\n",
       "    </tr>\n",
       "    <tr>\n",
       "      <th>9458</th>\n",
       "      <td>India</td>\n",
       "      <td>IND</td>\n",
       "      <td>2016</td>\n",
       "      <td>2.377448e+09</td>\n",
       "    </tr>\n",
       "    <tr>\n",
       "      <th>9459</th>\n",
       "      <td>India</td>\n",
       "      <td>IND</td>\n",
       "      <td>2017</td>\n",
       "      <td>2.466765e+09</td>\n",
       "    </tr>\n",
       "  </tbody>\n",
       "</table>\n",
       "</div>"
      ],
      "text/plain": [
       "     Entity Code  Year  Annual CO₂ emissions (tonnes )\n",
       "9452  India  IND  2010                    1.700027e+09\n",
       "9453  India  IND  2011                    1.817172e+09\n",
       "9454  India  IND  2012                    1.983759e+09\n",
       "9455  India  IND  2013                    1.997879e+09\n",
       "9456  India  IND  2014                    2.207534e+09\n",
       "9457  India  IND  2015                    2.276407e+09\n",
       "9458  India  IND  2016                    2.377448e+09\n",
       "9459  India  IND  2017                    2.466765e+09"
      ]
     },
     "execution_count": 11,
     "metadata": {},
     "output_type": "execute_result"
    }
   ],
   "source": [
    "india_em_df"
   ]
  },
  {
   "cell_type": "code",
   "execution_count": 12,
   "metadata": {},
   "outputs": [
    {
     "data": {
      "text/plain": [
       "[<matplotlib.lines.Line2D at 0x21aa4631a00>]"
      ]
     },
     "execution_count": 12,
     "metadata": {},
     "output_type": "execute_result"
    },
    {
     "data": {
      "image/png": "[encoded data removed]",
      "text/plain": [
       "<Figure size 432x288 with 1 Axes>"
      ]
     },
     "metadata": {
      "needs_background": "light"
     },
     "output_type": "display_data"
    }
   ],
   "source": [
    "plt.plot(us_em_df['Year'],us_em_df['Annual CO₂ emissions (tonnes )'], label = 'US Emissions')\n"
   ]
  },
  {
   "cell_type": "code",
   "execution_count": 13,
   "metadata": {},
   "outputs": [
    {
     "data": {
      "text/plain": [
       "[<matplotlib.lines.Line2D at 0x21aa4a83cd0>]"
      ]
     },
     "execution_count": 13,
     "metadata": {},
     "output_type": "execute_result"
    },
    {
     "data": {
      "image/png": "[encoded data removed]",
      "text/plain": [
       "<Figure size 432x288 with 1 Axes>"
      ]
     },
     "metadata": {
      "needs_background": "light"
     },
     "output_type": "display_data"
    }
   ],
   "source": [
    "plt.plot(value_avg['year'],(value_avg['Total_Value']*1000000), label = 'total Trade Value')"
   ]
  },
  {
   "cell_type": "code",
   "execution_count": 14,
   "metadata": {},
   "outputs": [
    {
     "data": {
      "text/plain": [
       "[<matplotlib.lines.Line2D at 0x21aa4aed3d0>]"
      ]
     },
     "execution_count": 14,
     "metadata": {},
     "output_type": "execute_result"
    },
    {
     "data": {
      "image/png": "[encoded data removed]",
      "text/plain": [
       "<Figure size 432x288 with 1 Axes>"
      ]
     },
     "metadata": {
      "needs_background": "light"
     },
     "output_type": "display_data"
    }
   ],
   "source": [
    "plt.plot(value_avg['year'],(value_avg['average_value']*1000000), label = 'Average Trade Value')"
   ]
  },
  {
   "cell_type": "code",
   "execution_count": 15,
   "metadata": {},
   "outputs": [
    {
     "data": {
      "image/png": "[encoded data removed]",
      "text/plain": [
       "<Figure size 432x288 with 1 Axes>"
      ]
     },
     "metadata": {
      "needs_background": "light"
     },
     "output_type": "display_data"
    }
   ],
   "source": [
    "plt.plot(us_em_df['Year'],us_em_df['Annual CO₂ emissions (tonnes )'], label = 'US Emissions')\n",
    "plt.plot(value_avg['year'],(value_avg['Total_Value']*1000000), label = 'total Trade Value')\n",
    "plt.plot(value_avg['year'],(value_avg['average_value']*1000000), label = 'Average Trade Value')\n",
    "plt.legend()\n",
    "plt.show()"
   ]
  },
  {
   "cell_type": "code",
   "execution_count": 16,
   "metadata": {},
   "outputs": [
    {
     "name": "stdout",
     "output_type": "stream",
     "text": [
      "The correlation between both factors is -0.77\n",
      "The linear regression equation is y = -3.6e-07x + 2344.61\n"
     ]
    },
    {
     "data": {
      "image/png": "[encoded data removed]",
      "text/plain": [
       "<Figure size 432x288 with 1 Axes>"
      ]
     },
     "metadata": {
      "needs_background": "light"
     },
     "output_type": "display_data"
    }
   ],
   "source": [
    "x_axis2 = us_em_df['Annual CO₂ emissions (tonnes )']\n",
    "y_axis2 = value_avg['average_value']\n",
    "correlation = st.pearsonr(x_axis2,y_axis2)\n",
    "(slope, intercept, rvalue, pvalue, stderr) = st.linregress(x_axis2, y_axis2)\n",
    "regress_values = x_axis2 * slope + intercept\n",
    "line_eq = \"y = \" + str(round(slope,8)) + \"x + \" + str(round(intercept,2))\n",
    "plt.scatter(x_axis2,y_axis2)\n",
    "plt.plot(x_axis2,regress_values,\"r-\")\n",
    "plt.annotate(line_eq,(5400000000,280),fontsize=15,color=\"red\")\n",
    "plt.xlabel('Average Annual CO2 Emmissions of USA')\n",
    "plt.ylabel('Average Export Value of India With USA')\n",
    "print(f\"The correlation between both factors is {round(correlation[0],2)}\")\n",
    "print(f'The linear regression equation is {line_eq}')\n",
    "plt.show()"
   ]
  },
  {
   "cell_type": "code",
   "execution_count": 17,
   "metadata": {},
   "outputs": [
    {
     "data": {
      "text/plain": [
       "8"
      ]
     },
     "execution_count": 17,
     "metadata": {},
     "output_type": "execute_result"
    }
   ],
   "source": [
    "india_em_df['Annual CO₂ emissions (tonnes )'].count()"
   ]
  },
  {
   "cell_type": "code",
   "execution_count": 18,
   "metadata": {},
   "outputs": [
    {
     "name": "stdout",
     "output_type": "stream",
     "text": [
      "The correlation between both factors is 0.93\n",
      "The linear regression equation is y = 2.3e-07x + -98.97\n"
     ]
    },
    {
     "data": {
      "image/png": "[encoded data removed]",
      "text/plain": [
       "<Figure size 432x288 with 1 Axes>"
      ]
     },
     "metadata": {
      "needs_background": "light"
     },
     "output_type": "display_data"
    }
   ],
   "source": [
    "x_axis3 = india_em_df['Annual CO₂ emissions (tonnes )']\n",
    "y_axis3 = value_avg['average_value']\n",
    "correlation = st.pearsonr(x_axis3,y_axis3)\n",
    "(slope, intercept, rvalue, pvalue, stderr) = st.linregress(x_axis3, y_axis3)\n",
    "regress_values = x_axis3 * slope + intercept\n",
    "line_eq = \"y = \" + str(round(slope,8)) + \"x + \" + str(round(intercept,2))\n",
    "plt.scatter(x_axis3,y_axis3)\n",
    "plt.plot(x_axis3,regress_values,\"r-\")\n",
    "plt.annotate(line_eq,(2100000000,280),fontsize=15,color=\"red\")\n",
    "plt.xlabel('Average Annual CO2 Emmissions of India')\n",
    "plt.ylabel('Average Export Value of India With USA')\n",
    "print(f\"The correlation between both factors is {round(correlation[0],2)}\")\n",
    "print(f'The linear regression equation is {line_eq}')\n",
    "plt.show()"
   ]
  },
  {
   "cell_type": "code",
   "execution_count": 19,
   "metadata": {},
   "outputs": [
    {
     "name": "stdout",
     "output_type": "stream",
     "text": [
      "The correlation between both factors is -0.76\n",
      "The linear regression equation is y = -3.5e-05x + 227324.76\n"
     ]
    },
    {
     "data": {
      "image/png": "[encoded data removed]",
      "text/plain": [
       "<Figure size 432x288 with 1 Axes>"
      ]
     },
     "metadata": {
      "needs_background": "light"
     },
     "output_type": "display_data"
    }
   ],
   "source": [
    "\n",
    "x_axis4 = us_em_df['Annual CO₂ emissions (tonnes )']\n",
    "y_axis4 = value_avg['Total_Value']\n",
    "correlation = st.pearsonr(x_axis4,y_axis4)\n",
    "(slope, intercept, rvalue, pvalue, stderr) = st.linregress(x_axis4, y_axis4)\n",
    "regress_values = x_axis4 * slope + intercept\n",
    "line_eq = \"y = \" + str(round(slope,6)) + \"x + \" + str(round(intercept,2))\n",
    "plt.scatter(x_axis4,y_axis4)\n",
    "plt.plot(x_axis4,regress_values,\"r-\")\n",
    "plt.annotate(line_eq,(5400000000,28000),fontsize=15,color=\"red\")\n",
    "plt.xlabel('Average Annual CO2 Emmissions of USA')\n",
    "plt.ylabel('Total Export Value of India With USA')\n",
    "print(f\"The correlation between both factors is {round(correlation[0],2)}\")\n",
    "print(f'The linear regression equation is {line_eq}')\n",
    "plt.show()"
   ]
  },
  {
   "cell_type": "code",
   "execution_count": 20,
   "metadata": {},
   "outputs": [
    {
     "data": {
      "text/plain": [
       "<function matplotlib.pyplot.show(close=None, block=None)>"
      ]
     },
     "execution_count": 20,
     "metadata": {},
     "output_type": "execute_result"
    },
    {
     "data": {
      "image/png": "[encoded data removed]",
      "text/plain": [
       "<Figure size 432x288 with 1 Axes>"
      ]
     },
     "metadata": {
      "needs_background": "light"
     },
     "output_type": "display_data"
    }
   ],
   "source": [
    "plt.violinplot(us_em_df['Annual CO₂ emissions (tonnes )'])\n",
    "plt.show"
   ]
  },
  {
   "cell_type": "code",
   "execution_count": 21,
   "metadata": {},
   "outputs": [
    {
     "data": {
      "text/plain": [
       "<function matplotlib.pyplot.show(close=None, block=None)>"
      ]
     },
     "execution_count": 21,
     "metadata": {},
     "output_type": "execute_result"
    },
    {
     "data": {
      "image/png": "[encoded data removed]",
      "text/plain": [
       "<Figure size 432x288 with 1 Axes>"
      ]
     },
     "metadata": {
      "needs_background": "light"
     },
     "output_type": "display_data"
    }
   ],
   "source": [
    "plt.violinplot(value_avg['Total_Value'])\n",
    "plt.show"
   ]
  },
  {
   "cell_type": "code",
   "execution_count": 22,
   "metadata": {},
   "outputs": [
    {
     "data": {
      "text/plain": [
       "<function matplotlib.pyplot.show(close=None, block=None)>"
      ]
     },
     "execution_count": 22,
     "metadata": {},
     "output_type": "execute_result"
    },
    {
     "data": {
      "image/png": "[encoded data removed]",
      "text/plain": [
       "<Figure size 432x288 with 1 Axes>"
      ]
     },
     "metadata": {
      "needs_background": "light"
     },
     "output_type": "display_data"
    }
   ],
   "source": [
    "plt.violinplot(value_avg['average_value'])\n",
    "plt.show"
   ]
  },
  {
   "cell_type": "code",
   "execution_count": 23,
   "metadata": {},
   "outputs": [
    {
     "data": {
      "text/plain": [
       "<function matplotlib.pyplot.show(close=None, block=None)>"
      ]
     },
     "execution_count": 23,
     "metadata": {},
     "output_type": "execute_result"
    },
    {
     "data": {
      "image/png": "[encoded data removed]",
      "text/plain": [
       "<Figure size 432x288 with 1 Axes>"
      ]
     },
     "metadata": {
      "needs_background": "light"
     },
     "output_type": "display_data"
    }
   ],
   "source": [
    "plt.boxplot(value_avg['average_value'])\n",
    "plt.show"
   ]
  },
  {
   "cell_type": "code",
   "execution_count": 24,
   "metadata": {},
   "outputs": [
    {
     "data": {
      "text/plain": [
       "<function matplotlib.pyplot.show(close=None, block=None)>"
      ]
     },
     "execution_count": 24,
     "metadata": {},
     "output_type": "execute_result"
    },
    {
     "data": {
      "image/png": "[encoded data removed]",
      "text/plain": [
       "<Figure size 432x288 with 1 Axes>"
      ]
     },
     "metadata": {
      "needs_background": "light"
     },
     "output_type": "display_data"
    }
   ],
   "source": [
    "plt.boxplot(us_em_df['Annual CO₂ emissions (tonnes )'])\n",
    "plt.show"
   ]
  },
  {
   "cell_type": "code",
   "execution_count": 25,
   "metadata": {},
   "outputs": [
    {
     "name": "stdout",
     "output_type": "stream",
     "text": [
      "25291.56\n"
     ]
    }
   ],
   "source": [
    "quartiles = value_avg['Total_Value'].quantile([.25,.75])\n",
    "lowerq = quartiles[0.25]\n",
    "upperq = quartiles[0.75]\n",
    "iqr = upperq-lowerq\n",
    "iqr\n",
    "upperoutl = 1.5*iqr + upperq\n",
    "loweroutl = lowerq - 1.5*iqr\n",
    "for x in value_avg['Total_Value']:\n",
    "    if x > upperoutl or x < loweroutl :\n",
    "        print(f'{x}')"
   ]
  },
  {
   "cell_type": "code",
   "execution_count": null,
   "metadata": {},
   "outputs": [],
   "source": []
  }
 ],
 "metadata": {
  "kernelspec": {
   "display_name": "Python 3",
   "language": "python",
   "name": "python3"
  },
  "language_info": {
   "codemirror_mode": {
    "name": "ipython",
    "version": 3
   },
   "file_extension": ".py",
   "mimetype": "text/x-python",
   "name": "python",
   "nbconvert_exporter": "python",
   "pygments_lexer": "ipython3",
   "version": "3.8.5"
  }
 },
 "nbformat": 4,
 "nbformat_minor": 4
}
